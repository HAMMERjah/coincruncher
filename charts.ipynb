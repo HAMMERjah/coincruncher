{
 "cells": [
  {
   "cell_type": "code",
   "execution_count": 182,
   "metadata": {},
   "outputs": [
    {
     "data": {
      "text/html": [
       "<script>requirejs.config({paths: { 'plotly': ['https://cdn.plot.ly/plotly-latest.min']},});if(!window.Plotly) {{require(['plotly'],function(plotly) {window.Plotly=plotly;});}}</script>"
      ],
      "text/vnd.plotly.v1+html": [
       "<script>requirejs.config({paths: { 'plotly': ['https://cdn.plot.ly/plotly-latest.min']},});if(!window.Plotly) {{require(['plotly'],function(plotly) {window.Plotly=plotly;});}}</script>"
      ]
     },
     "metadata": {},
     "output_type": "display_data"
    }
   ],
   "source": [
    "import os,sys\n",
    "import logging, time\n",
    "from pprint import pprint, pformat\n",
    "import importlib\n",
    "from datetime import timedelta, datetime\n",
    "import pandas as pd\n",
    "import numpy as np\n",
    "import plotly.graph_objs as go\n",
    "import plotly.plotly as py\n",
    "from plotly import tools, offline\n",
    "#import cufflinks as cf\n",
    "import qgrid\n",
    "\n",
    "from docs.config import *\n",
    "from docs.data import *\n",
    "import app\n",
    "from app import freqtostr, strtofreq, pertostr\n",
    "from app.common.timer import Timer\n",
    "from app.common.utils import utc_datetime as now, utc_dtdate\n",
    "from app.bnc import *\n",
    "from app.bnc import analyze, candles, signals, trade, strategy\n",
    "\n",
    "# Conf\n",
    "log = logging.getLogger(\"testing\")\n",
    "pd.set_option(\"display.max_columns\", 25)\n",
    "pd.set_option(\"display.width\", 2000)\n",
    "app.set_db([\"localhost\", \"45.79.176.125\"][0])\n",
    "db = app.get_db()\n",
    "\n",
    "\n",
    "# Init plotly\n",
    "cred = db.api_keys.find_one({\"name\":\"plotly\"})\n",
    "tools.set_credentials_file(username=cred['plotly_user'], api_key=cred['plotly_api_key'])\n",
    "offline.init_notebook_mode(connected=True)\n",
    "#cf.go_offline()\n",
    "\n",
    "# Generate plot data\n",
    "freq=300\n",
    "freq_str='5m'\n",
    "pair='LTCUSDT'\n",
    "trade.freq = freq\n",
    "trade.freq_str = freq_str\n",
    "trade.init()\n",
    "dfc = app.bnc.dfc\n",
    "btc = dfc.loc[pair,freq].tail(288)\n",
    "df = signals.MACD(btc, 12, 26)\n",
    "\n",
    "qscale = qgrid.show_grid(\n",
    "    df,\n",
    "    show_toolbar=True,\n",
    "    grid_options={'forceFitColumns': True, 'defaultColumnWidth': 100})"
   ]
  },
  {
   "cell_type": "code",
   "execution_count": 183,
   "metadata": {},
   "outputs": [
    {
     "name": "stdout",
     "output_type": "stream",
     "text": [
      "This is the format of your plot grid:\n",
      "[ (1,1) x1,y1 ]\n",
      "[ (2,1) x1,y2 ]\n",
      "\n"
     ]
    },
    {
     "data": {
      "text/html": [
       "<iframe id=\"igraph\" scrolling=\"no\" style=\"border:none;\" seamless=\"seamless\" src=\"https://plot.ly/~SeanEstey/287.embed\" height=\"525px\" width=\"100%\"></iframe>"
      ],
      "text/plain": [
       "<plotly.tools.PlotlyDisplay object>"
      ]
     },
     "execution_count": 183,
     "metadata": {},
     "output_type": "execute_result"
    }
   ],
   "source": [
    "price = go.Scatter(x=df.index,y=df['close'])\n",
    "\n",
    "macd = go.Scatter(x=df.index, y=df['macd'])\n",
    "macd_sign = go.Scatter(x=df.index, y=df['macd_sign'])\n",
    "macd_diff = go.Bar(x=df.index, y=df['macd_diff']) #, filename='basic histogram')\n",
    "\n",
    "fig = tools.make_subplots(\n",
    "    rows=2, cols=1,\n",
    "    specs=[ [{}], [{}] ],\n",
    "    shared_xaxes=True, shared_yaxes=True,\n",
    "    vertical_spacing=0.001)\n",
    "fig.append_trace(price, 1, 1)\n",
    "fig.append_trace(macd, 2, 1)\n",
    "fig.append_trace(macd_diff, 2, 1)\n",
    "fig.append_trace(macd_sign, 2, 1)\n",
    "\n",
    "\n",
    "fig['layout'].update(title='BTC w/ MACD')\n",
    "\n",
    "py.iplot(fig)"
   ]
  },
  {
   "cell_type": "code",
   "execution_count": 184,
   "metadata": {},
   "outputs": [
    {
     "data": {
      "application/vnd.jupyter.widget-view+json": {
       "model_id": "832d13c6d8404d8c862c6904fc323054",
       "version_major": 2,
       "version_minor": 0
      },
      "text/html": [
       "<p>Failed to display Jupyter Widget of type <code>QgridWidget</code>.</p>\n",
       "<p>\n",
       "  If you're reading this message in the Jupyter Notebook or JupyterLab Notebook, it may mean\n",
       "  that the widgets JavaScript is still loading. If this message persists, it\n",
       "  likely means that the widgets JavaScript library is either not installed or\n",
       "  not enabled. See the <a href=\"https://ipywidgets.readthedocs.io/en/stable/user_install.html\">Jupyter\n",
       "  Widgets Documentation</a> for setup instructions.\n",
       "</p>\n",
       "<p>\n",
       "  If you're reading this message in another frontend (for example, a static\n",
       "  rendering on GitHub or <a href=\"https://nbviewer.jupyter.org/\">NBViewer</a>),\n",
       "  it may mean that your frontend doesn't currently support widgets.\n",
       "</p>\n"
      ],
      "text/plain": [
       "QgridWidget(grid_options={'fullWidthRows': True, 'syncColumnCellResize': True, 'forceFitColumns': True, 'defaultColumnWidth': 100, 'rowHeight': 28, 'enableColumnReorder': False, 'enableTextSelectionOnCells': True, 'editable': True, 'autoEdit': False, 'explicitInitialization': True, 'maxVisibleRows': 15, 'minVisibleRows': 8, 'sortable': True, 'filterable': True, 'highlightSelectedCell': False, 'highlightSelectedRow': True}, precision=5, show_toolbar=True)"
      ]
     },
     "metadata": {},
     "output_type": "display_data"
    }
   ],
   "source": [
    "qscale"
   ]
  },
  {
   "cell_type": "code",
   "execution_count": 188,
   "metadata": {},
   "outputs": [
    {
     "data": {
      "text/plain": [
       "{'25%': 0.06678,\n",
       " '50%': 0.07844,\n",
       " '75%': 0.10237,\n",
       " 'count': 3.0,\n",
       " 'max': 0.12629,\n",
       " 'mean': 0.08662,\n",
       " 'min': 0.05513,\n",
       " 'std': 0.03628}"
      ]
     },
     "execution_count": 188,
     "metadata": {},
     "output_type": "execute_result"
    }
   ],
   "source": [
    "\n",
    "df2 = df.tail(25)\n",
    "last = np.float64(df2.tail(1)['macd_diff'])\n",
    "cut = df2[df2['macd_diff'] > 0].iloc[-1] if last < 0 else df2[df2['macd_diff'] < 0].iloc[-1]\n",
    "hist = df2.loc[slice(cut.name, df2.iloc[-1].name)].iloc[1:-1]\n",
    "mean = hist['macd_diff'].describe()['mean']\n",
    "hist['macd_diff'].describe().round(5).to_dict()\n"
   ]
  },
  {
   "cell_type": "code",
   "execution_count": null,
   "metadata": {},
   "outputs": [],
   "source": []
  }
 ],
 "metadata": {
  "kernelspec": {
   "display_name": "Python 3",
   "language": "python",
   "name": "python3"
  },
  "language_info": {
   "codemirror_mode": {
    "name": "ipython",
    "version": 3
   },
   "file_extension": ".py",
   "mimetype": "text/x-python",
   "name": "python",
   "nbconvert_exporter": "python",
   "pygments_lexer": "ipython3",
   "version": "3.6.4"
  }
 },
 "nbformat": 4,
 "nbformat_minor": 2
}
