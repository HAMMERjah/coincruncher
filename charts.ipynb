{
 "cells": [
  {
   "cell_type": "code",
   "execution_count": 59,
   "metadata": {},
   "outputs": [
    {
     "name": "stdout",
     "output_type": "stream",
     "text": [
      "This is the format of your plot grid:\n",
      "[ (1,1) x1,y1 ]\n",
      "[ (2,1) x1,y2 ]\n",
      "[ (3,1) x1,y3 ]\n",
      "[ (4,1) x1,y4 ]\n",
      "\n"
     ]
    },
    {
     "data": {
      "text/plain": [
       "'file:///Users/seanestey/coding/coincruncher/myplot.html'"
      ]
     },
     "execution_count": 59,
     "metadata": {},
     "output_type": "execute_result"
    }
   ],
   "source": [
    "import os,sys\n",
    "import logging, time\n",
    "from pprint import pprint, pformat\n",
    "import importlib\n",
    "import dateparser\n",
    "from datetime import timedelta, datetime\n",
    "import pandas as pd\n",
    "import numpy as np\n",
    "import qgrid\n",
    "import plotly.offline as offline\n",
    "import plotly.tools as tools, plotly.graph_objs as go\n",
    "from docs.config import *\n",
    "from docs.data import *\n",
    "import app\n",
    "from app import freqtostr, strtofreq, pertostr\n",
    "from app.common.timer import Timer\n",
    "from app.common.utils import utc_datetime as now, utc_dtdate\n",
    "from app.bot import scanner, candles, signals, trade, strategy\n",
    "\n",
    "# Conf\n",
    "log = logging.getLogger(\"testing\")\n",
    "pd.set_option(\"display.max_columns\", 25)\n",
    "pd.set_option(\"display.width\", 2000)\n",
    "app.set_db([\"localhost\", \"45.79.176.125\"][0])\n",
    "db = app.get_db()\n",
    "\n",
    "# Conf\n",
    "pair='ONTBTC'\n",
    "freq=3600\n",
    "span = \"48 hours ago utc\"\n",
    "periods = 48\n",
    "macd_sh = 12\n",
    "macd_ln = 26\n",
    "\n",
    "candles.update([pair], freqtostr[freq], start=span, force=True)\n",
    "app.bot.dfc = candles.merge_new(pd.DataFrame(), [pair], span=(now()-dateparser.parse(span))*3)\n",
    "asset = app.bot.dfc.loc[pair,freq]\n",
    "macd = signals.macd(asset, macd_sh, macd_ln).tail(periods)\n",
    "asset = asset.tail(periods)\n",
    "\n",
    "diff = macd['macd_diff']\n",
    "\n",
    "buy_vol = macd['volume'] * macd['buy_ratio']\n",
    "vema = buy_vol.ewm(span=3).mean() #.pct_change()\n",
    "\n",
    "# Offline plot\n",
    "fig = tools.make_subplots(\n",
    "    rows=4, cols=1,\n",
    "    specs=[ [{}], [{}], [{}], [{}] ], \n",
    "    shared_xaxes=True, shared_yaxes=True, vertical_spacing=0.001)\n",
    "fig.append_trace(go.Scatter(x=macd.index,y=macd['close']), 1, 1)\n",
    "fig.append_trace(go.Bar(x=macd.index, y=macd['normalized'], name=\"MACD_diff (normalized)\"), 2, 1)\n",
    "fig.append_trace(go.Scatter(x=macd.index, y=vema, name=\"Buy Volume\"), 3, 1)\n",
    "fig.append_trace(go.Scatter(x=macd.index, y=macd['buy_ratio'], name=\"Buy Ratio\"), 4, 1)\n",
    "\n",
    "fig['layout'].update(title='{} MACD'.format(pair))\n",
    "\n",
    "offline.plot(fig, filename=\"myplot.html\")"
   ]
  },
  {
   "cell_type": "code",
   "execution_count": 2,
   "metadata": {},
   "outputs": [],
   "source": [
    "histos=[]\n",
    "is_pos = None\n",
    "current=[]\n",
    "s = macd['normalized'].dropna()\n",
    "\n",
    "for k,v in s.items():\n",
    "    if is_pos is None:\n",
    "        if v >= 0:\n",
    "            is_pos = True\n",
    "        else:\n",
    "            is_pos = False  \n",
    "    \n",
    "    if is_pos == True:\n",
    "        if v >= 0:\n",
    "            current.append({k:v})\n",
    "        else:\n",
    "            histos.append(current.copy())\n",
    "            current=[{k:v}]\n",
    "            is_pos=False        \n",
    "    elif is_pos == False:\n",
    "        if v < 0:\n",
    "            current.append({k:v})\n",
    "        else:\n",
    "            histos.append(current.copy())\n",
    "            current=[{k:v}]\n",
    "            is_pos=True\n",
    "            \n",
    "        \n",
    "\n",
    "        "
   ]
  },
  {
   "cell_type": "code",
   "execution_count": 52,
   "metadata": {},
   "outputs": [
    {
     "data": {
      "text/plain": [
       "300"
      ]
     },
     "execution_count": 52,
     "metadata": {},
     "output_type": "execute_result"
    }
   ],
   "source": [
    "#df['elderly'] = np.where(df['age']>=50, 'yes', 'no')\n",
    "macd['pos_neg'] = np.where(macd['normalized'] >=0, True, False)\n",
    "mypos = macd[macd['pos_neg'] == True]\n",
    "\n",
    "i = mypos.index[0]\n",
    "j = mypos.index[1]\n",
    "\n",
    "(j-i).seconds"
   ]
  },
  {
   "cell_type": "code",
   "execution_count": null,
   "metadata": {},
   "outputs": [],
   "source": []
  }
 ],
 "metadata": {
  "kernelspec": {
   "display_name": "Python 3",
   "language": "python",
   "name": "python3"
  },
  "language_info": {
   "codemirror_mode": {
    "name": "ipython",
    "version": 3
   },
   "file_extension": ".py",
   "mimetype": "text/x-python",
   "name": "python",
   "nbconvert_exporter": "python",
   "pygments_lexer": "ipython3",
   "version": "3.6.4"
  }
 },
 "nbformat": 4,
 "nbformat_minor": 2
}
