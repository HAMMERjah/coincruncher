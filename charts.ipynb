{
 "cells": [
  {
   "cell_type": "code",
   "execution_count": 23,
   "metadata": {},
   "outputs": [
    {
     "name": "stdout",
     "output_type": "stream",
     "text": [
      "This is the format of your plot grid:\n",
      "[ (1,1) x1,y1 ]\n",
      "[ (2,1) x1,y2 ]\n",
      "[ (3,1) x1,y3 ]\n",
      "[ (4,1) x1,y4 ]\n",
      "\n"
     ]
    },
    {
     "data": {
      "text/plain": [
       "'file:///Users/seanestey/coding/coincruncher/myplot.html'"
      ]
     },
     "execution_count": 23,
     "metadata": {},
     "output_type": "execute_result"
    }
   ],
   "source": [
    "import os,sys\n",
    "import logging, time\n",
    "from pprint import pprint, pformat\n",
    "import importlib\n",
    "from datetime import timedelta, datetime\n",
    "import pandas as pd\n",
    "import numpy as np\n",
    "import qgrid\n",
    "import plotly.offline as offline\n",
    "import plotly.tools as tools, plotly.graph_objs as go\n",
    "from docs.config import *\n",
    "from docs.data import *\n",
    "import app\n",
    "from app import freqtostr, strtofreq, pertostr\n",
    "from app.common.timer import Timer\n",
    "from app.common.utils import utc_datetime as now, utc_dtdate\n",
    "from app.bnc import scanner, candles, signals, trade, strategy\n",
    "\n",
    "# Conf\n",
    "log = logging.getLogger(\"testing\")\n",
    "pd.set_option(\"display.max_columns\", 25)\n",
    "pd.set_option(\"display.width\", 2000)\n",
    "app.set_db([\"localhost\", \"45.79.176.125\"][0])\n",
    "db = app.get_db()\n",
    "\n",
    "# Generate plot data\n",
    "freq=300\n",
    "freq_str='5m'\n",
    "pair='BTCUSDT'\n",
    "trade.freq = freq\n",
    "trade.freq_str = freq_str\n",
    "trade.init()\n",
    "dfc = app.bnc.dfc\n",
    "btc = dfc.loc[pair,freq].tail(288)\n",
    "macd = signals.macd(btc, 12, 26)\n",
    "qdf = qgrid.show_grid(macd,\n",
    "    show_toolbar=True, grid_options={'forceFitColumns': True, 'defaultColumnWidth': 100})\n",
    "\n",
    "# Offline plot\n",
    "fig = tools.make_subplots(\n",
    "    rows=4, cols=1,\n",
    "    specs=[ [{}], [{}], [{}], [{}] ], \n",
    "    shared_xaxes=True, shared_yaxes=True, vertical_spacing=0.001)\n",
    "fig.append_trace(go.Scatter(x=macd.index,y=macd['close']), 1, 1)\n",
    "\n",
    "fig.append_trace(go.Scatter(x=macd.index, y=macd['macd'], name=\"MACD\"), 2, 1)\n",
    "fig.append_trace(go.Bar(x=macd.index, y=macd['macd_diff'], name=\"MACD_diff\"), 2, 1)\n",
    "fig.append_trace(go.Scatter(x=macd.index, y=macd['macd_sign'], name=\"MACD_sign\"), 2, 1)\n",
    "\n",
    "\n",
    "fig.append_trace(go.Bar(x=macd.index, y=macd['volume'], name=\"Volume\"), 3, 1)\n",
    "\n",
    "fig.append_trace(go.Scatter(x=macd.index, y=macd['buy_ratio'], name=\"Buy Ratio\"), 4, 1)\n",
    "\n",
    "fig['layout'].update(title='{} MACD'.format(pair))\n",
    "\n",
    "offline.plot(fig, filename=\"myplot.html\")"
   ]
  },
  {
   "cell_type": "code",
   "execution_count": null,
   "metadata": {},
   "outputs": [],
   "source": []
  }
 ],
 "metadata": {
  "kernelspec": {
   "display_name": "Python 3",
   "language": "python",
   "name": "python3"
  },
  "language_info": {
   "codemirror_mode": {
    "name": "ipython",
    "version": 3
   },
   "file_extension": ".py",
   "mimetype": "text/x-python",
   "name": "python",
   "nbconvert_exporter": "python",
   "pygments_lexer": "ipython3",
   "version": "3.6.4"
  }
 },
 "nbformat": 4,
 "nbformat_minor": 2
}
