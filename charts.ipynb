{
 "cells": [
  {
   "cell_type": "code",
   "execution_count": 11,
   "metadata": {},
   "outputs": [
    {
     "name": "stdout",
     "output_type": "stream",
     "text": [
      "len(macd)=176\n",
      "end of histos\n",
      "This is the format of your plot grid:\n",
      "[ (1,1) x1,y1 ]\n",
      "[ (2,1) x2,y2 ]\n",
      "[ (3,1) x3,y3 ]\n",
      "[ (4,1) x4,y4 ]\n",
      "\n"
     ]
    },
    {
     "data": {
      "text/plain": [
       "0"
      ]
     },
     "execution_count": 11,
     "metadata": {},
     "output_type": "execute_result"
    }
   ],
   "source": [
    "import os\n",
    "from pprint import pprint\n",
    "from datetime import timedelta as delta, datetime\n",
    "import pandas as pd\n",
    "import numpy as np\n",
    "import qgrid\n",
    "import plotly.offline as offline\n",
    "import plotly.tools as tools, plotly.graph_objs as go\n",
    "from docs.config import *\n",
    "from docs.rules import STRATS as rules\n",
    "import app\n",
    "from app import freqtostr, strtofreq\n",
    "from app.bot import scanner, candles, signals\n",
    "\n",
    "# Conf\n",
    "pd.set_option(\"display.max_columns\", 25)\n",
    "pd.set_option(\"display.width\", 2000)\n",
    "app.set_db([\"localhost\", \"45.79.176.125\"][0])\n",
    "db = app.get_db()\n",
    "\n",
    "pair='POABTC'\n",
    "freqstr = '5m'\n",
    "pdfreqstr = '5T'\n",
    "periods = 288\n",
    "unit = 'minutes'\n",
    "td = delta(minutes = 5 * periods)\n",
    "freq = strtofreq[freqstr]\n",
    "\n",
    "candles.update([pair], freqstr,\n",
    "    start = \"{} {} ago utc\".format(periods * 3, unit),\n",
    "    force=True)\n",
    "app.bot.dfc = candles.merge_new(pd.DataFrame(), [pair],\n",
    "    span = td * 3)\n",
    "\n",
    "macd = signals.macd(app.bot.dfc.loc[pair, freq],\n",
    "    rules['macd']['fast_span'],\n",
    "    rules['macd']['slow_span']\n",
    ").tail(periods)\n",
    "scan = scanner.macd_analysis(pair, freqstr, periods, pdfreqstr=pdfreqstr)\n",
    "\n",
    "# Build traces\n",
    "fig = tools.make_subplots(\n",
    "    rows=4,\n",
    "    cols=1,\n",
    "    specs=[ [{}], [{}], [{}], [{}] ], \n",
    "    shared_xaxes=False,\n",
    "    shared_yaxes=True,\n",
    "    vertical_spacing=0.005\n",
    ")\n",
    "fig.append_trace(\n",
    "    go.Scatter(\n",
    "        x=macd.index,\n",
    "        y=macd['close'],\n",
    "        name=\"Price\"\n",
    "    ),\n",
    "    1, 1\n",
    ")\n",
    "fig.append_trace(\n",
    "    go.Bar(\n",
    "        x=macd.index,\n",
    "        y=macd['macd_diff'],\n",
    "        name=\"MACD_diff (normalized)\"\n",
    "    ),\n",
    "    2, 1\n",
    ")\n",
    "\n",
    "# Layout\n",
    "fig['layout'].update(\n",
    "    title='{} MACD'.format(pair))\n",
    "fig['layout']['xaxis2'].update(\n",
    "    title=\"<BR><BR><BR>\" + \"<BR>\".join(scan['output'][1:]))\n",
    "\n",
    "file = \"{}_{}_{}.html\".format(pair, freqstr, str(datetime.now().date()))\n",
    "offline.plot(fig, filename=file)\n",
    "os.system(\"mv {} charts/\".format(file))"
   ]
  },
  {
   "cell_type": "code",
   "execution_count": 52,
   "metadata": {},
   "outputs": [
    {
     "data": {
      "text/plain": [
       "172"
      ]
     },
     "execution_count": 52,
     "metadata": {},
     "output_type": "execute_result"
    }
   ],
   "source": [
    "len(macd)"
   ]
  },
  {
   "cell_type": "code",
   "execution_count": 9,
   "metadata": {},
   "outputs": [
    {
     "data": {
      "text/plain": [
       "'2018-04-07'"
      ]
     },
     "execution_count": 9,
     "metadata": {},
     "output_type": "execute_result"
    }
   ],
   "source": [
    "str(datetime.now().date())"
   ]
  },
  {
   "cell_type": "code",
   "execution_count": null,
   "metadata": {},
   "outputs": [],
   "source": []
  }
 ],
 "metadata": {
  "kernelspec": {
   "display_name": "Python 3",
   "language": "python",
   "name": "python3"
  },
  "language_info": {
   "codemirror_mode": {
    "name": "ipython",
    "version": 3
   },
   "file_extension": ".py",
   "mimetype": "text/x-python",
   "name": "python",
   "nbconvert_exporter": "python",
   "pygments_lexer": "ipython3",
   "version": "3.6.4"
  }
 },
 "nbformat": 4,
 "nbformat_minor": 2
}
